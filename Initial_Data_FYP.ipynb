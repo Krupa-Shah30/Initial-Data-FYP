{
  "cells": [
    {
      "cell_type": "markdown",
      "metadata": {
        "id": "view-in-github",
        "colab_type": "text"
      },
      "source": [
        "<a href=\"https://colab.research.google.com/github/Krupa-Shah30/Initial-Data-FYP/blob/main/Initial_Data_FYP.ipynb\" target=\"_parent\"><img src=\"https://colab.research.google.com/assets/colab-badge.svg\" alt=\"Open In Colab\"/></a>"
      ]
    },
    {
      "cell_type": "code",
      "execution_count": null,
      "metadata": {
        "id": "WDzJk_mjZlB-"
      },
      "outputs": [],
      "source": [
        "import pandas as pd\n",
        "import numpy as np\n",
        "import matplotlib.pyplot as plt\n",
        "df=pd.read_excel('Datasets/Cleaned/elex 14-15 batch 1.xlsx')"
      ]
    },
    {
      "cell_type": "code",
      "execution_count": null,
      "metadata": {
        "id": "na-hWjTkZlCD",
        "outputId": "30256407-fbeb-498d-8dae-bd7abb7f34a9"
      },
      "outputs": [
        {
          "data": {
            "text/plain": [
              "Index(['Sr. No.', 'SAP ID', 'Name', 'Average', 'SEM-I', 'SEM-II', 'SEM-III',\n",
              "       'SEM IV', 'SEM V', 'SEM VI', 'No. of KTs', 'KT Avg', 'Gender',\n",
              "       'Candidature Type', 'Category', 'Home University',\n",
              "       'HSC Eligibility Percentage', 'Seat Type', 'Fees Paid',\n",
              "       'Admission Date', 'Uploaded Date', 'CAP Round',\n",
              "       'Admitted / Uploaded Late'],\n",
              "      dtype='object')"
            ]
          },
          "execution_count": 2,
          "metadata": {},
          "output_type": "execute_result"
        }
      ],
      "source": [
        "df.columns"
      ]
    },
    {
      "cell_type": "code",
      "execution_count": null,
      "metadata": {
        "id": "vP6wjiRKZlCF",
        "outputId": "822143ec-49eb-47d8-8326-9da23682ce2a"
      },
      "outputs": [
        {
          "data": {
            "text/html": [
              "<div>\n",
              "<style scoped>\n",
              "    .dataframe tbody tr th:only-of-type {\n",
              "        vertical-align: middle;\n",
              "    }\n",
              "\n",
              "    .dataframe tbody tr th {\n",
              "        vertical-align: top;\n",
              "    }\n",
              "\n",
              "    .dataframe thead th {\n",
              "        text-align: right;\n",
              "    }\n",
              "</style>\n",
              "<table border=\"1\" class=\"dataframe\">\n",
              "  <thead>\n",
              "    <tr style=\"text-align: right;\">\n",
              "      <th></th>\n",
              "      <th>Sr. No.</th>\n",
              "      <th>SAP ID</th>\n",
              "      <th>Name</th>\n",
              "      <th>Average</th>\n",
              "      <th>SEM-I</th>\n",
              "      <th>SEM-II</th>\n",
              "      <th>SEM-III</th>\n",
              "      <th>SEM IV</th>\n",
              "      <th>SEM V</th>\n",
              "      <th>SEM VI</th>\n",
              "      <th>...</th>\n",
              "      <th>Candidature Type</th>\n",
              "      <th>Category</th>\n",
              "      <th>Home University</th>\n",
              "      <th>HSC Eligibility Percentage</th>\n",
              "      <th>Seat Type</th>\n",
              "      <th>Fees Paid</th>\n",
              "      <th>Admission Date</th>\n",
              "      <th>Uploaded Date</th>\n",
              "      <th>CAP Round</th>\n",
              "      <th>Admitted / Uploaded Late</th>\n",
              "    </tr>\n",
              "  </thead>\n",
              "  <tbody>\n",
              "    <tr>\n",
              "      <th>0</th>\n",
              "      <td>1</td>\n",
              "      <td>60001140001</td>\n",
              "      <td>ANIRUDH VISHWANATHAN</td>\n",
              "      <td>8.054000</td>\n",
              "      <td>7.38</td>\n",
              "      <td>8.07</td>\n",
              "      <td>NaN</td>\n",
              "      <td>7.07</td>\n",
              "      <td>8.64</td>\n",
              "      <td>9.11</td>\n",
              "      <td>...</td>\n",
              "      <td>Type A</td>\n",
              "      <td>Open</td>\n",
              "      <td>Mumbai</td>\n",
              "      <td>74.33</td>\n",
              "      <td>IL</td>\n",
              "      <td>123211</td>\n",
              "      <td>2014-08-12</td>\n",
              "      <td>2014-08-19</td>\n",
              "      <td>Institute Level</td>\n",
              "      <td>No</td>\n",
              "    </tr>\n",
              "    <tr>\n",
              "      <th>1</th>\n",
              "      <td>2</td>\n",
              "      <td>60001140002</td>\n",
              "      <td>ROHAN  RAJEEV</td>\n",
              "      <td>9.690000</td>\n",
              "      <td>9.63</td>\n",
              "      <td>9.96</td>\n",
              "      <td>8.81</td>\n",
              "      <td>9.74</td>\n",
              "      <td>10.00</td>\n",
              "      <td>10.00</td>\n",
              "      <td>...</td>\n",
              "      <td>Type A</td>\n",
              "      <td>Open</td>\n",
              "      <td>Mumbai</td>\n",
              "      <td>88.33</td>\n",
              "      <td>IL</td>\n",
              "      <td>123211</td>\n",
              "      <td>2014-07-26</td>\n",
              "      <td>2014-08-14</td>\n",
              "      <td>Institute Level</td>\n",
              "      <td>No</td>\n",
              "    </tr>\n",
              "    <tr>\n",
              "      <th>2</th>\n",
              "      <td>3</td>\n",
              "      <td>60001140004</td>\n",
              "      <td>ANCHAN NITYANAND B.</td>\n",
              "      <td>8.590000</td>\n",
              "      <td>8.81</td>\n",
              "      <td>9.19</td>\n",
              "      <td>7.42</td>\n",
              "      <td>8.29</td>\n",
              "      <td>8.64</td>\n",
              "      <td>9.19</td>\n",
              "      <td>...</td>\n",
              "      <td>Type A</td>\n",
              "      <td>Open</td>\n",
              "      <td>Mumbai</td>\n",
              "      <td>78.50</td>\n",
              "      <td>IL</td>\n",
              "      <td>123211</td>\n",
              "      <td>2014-07-31</td>\n",
              "      <td>2014-08-14</td>\n",
              "      <td>Institute Level</td>\n",
              "      <td>No</td>\n",
              "    </tr>\n",
              "    <tr>\n",
              "      <th>3</th>\n",
              "      <td>4</td>\n",
              "      <td>60001140005</td>\n",
              "      <td>ARYA KANIKA SANJAY</td>\n",
              "      <td>6.950000</td>\n",
              "      <td>6.30</td>\n",
              "      <td>6.10</td>\n",
              "      <td>F</td>\n",
              "      <td>6.32</td>\n",
              "      <td>8.25</td>\n",
              "      <td>7.78</td>\n",
              "      <td>...</td>\n",
              "      <td>Type A</td>\n",
              "      <td>Open</td>\n",
              "      <td>Mumbai</td>\n",
              "      <td>69.83</td>\n",
              "      <td>IL</td>\n",
              "      <td>123211</td>\n",
              "      <td>2014-08-05</td>\n",
              "      <td>2014-08-14</td>\n",
              "      <td>Institute Level</td>\n",
              "      <td>No</td>\n",
              "    </tr>\n",
              "    <tr>\n",
              "      <th>4</th>\n",
              "      <td>5</td>\n",
              "      <td>60001140006</td>\n",
              "      <td>ARYA UDAYAN YASHPRIYA</td>\n",
              "      <td>8.303333</td>\n",
              "      <td>7.85</td>\n",
              "      <td>8.56</td>\n",
              "      <td>8</td>\n",
              "      <td>8.39</td>\n",
              "      <td>8.50</td>\n",
              "      <td>8.52</td>\n",
              "      <td>...</td>\n",
              "      <td>Type A</td>\n",
              "      <td>Open</td>\n",
              "      <td>Mumbai</td>\n",
              "      <td>83.00</td>\n",
              "      <td>IL</td>\n",
              "      <td>123211</td>\n",
              "      <td>2014-07-23</td>\n",
              "      <td>2014-08-14</td>\n",
              "      <td>Institute Level</td>\n",
              "      <td>No</td>\n",
              "    </tr>\n",
              "  </tbody>\n",
              "</table>\n",
              "<p>5 rows × 23 columns</p>\n",
              "</div>"
            ],
            "text/plain": [
              "   Sr. No.       SAP ID                    Name   Average SEM-I SEM-II  \\\n",
              "0        1  60001140001    ANIRUDH VISHWANATHAN  8.054000  7.38   8.07   \n",
              "1        2  60001140002           ROHAN  RAJEEV  9.690000  9.63   9.96   \n",
              "2        3  60001140004     ANCHAN NITYANAND B.  8.590000  8.81   9.19   \n",
              "3        4  60001140005     ARYA KANIKA SANJAY   6.950000  6.30   6.10   \n",
              "4        5  60001140006  ARYA UDAYAN YASHPRIYA   8.303333  7.85   8.56   \n",
              "\n",
              "  SEM-III  SEM IV  SEM V  SEM VI  ...  Candidature Type Category  \\\n",
              "0     NaN    7.07   8.64    9.11  ...            Type A     Open   \n",
              "1    8.81    9.74  10.00   10.00  ...            Type A     Open   \n",
              "2    7.42    8.29   8.64    9.19  ...            Type A     Open   \n",
              "3       F    6.32   8.25    7.78  ...            Type A     Open   \n",
              "4       8    8.39   8.50    8.52  ...            Type A     Open   \n",
              "\n",
              "  Home University HSC Eligibility Percentage Seat Type Fees Paid  \\\n",
              "0          Mumbai                      74.33        IL    123211   \n",
              "1          Mumbai                      88.33        IL    123211   \n",
              "2          Mumbai                      78.50        IL    123211   \n",
              "3          Mumbai                      69.83        IL    123211   \n",
              "4          Mumbai                      83.00        IL    123211   \n",
              "\n",
              "   Admission Date Uploaded Date        CAP Round Admitted / Uploaded Late  \n",
              "0      2014-08-12    2014-08-19  Institute Level                       No  \n",
              "1      2014-07-26    2014-08-14  Institute Level                       No  \n",
              "2      2014-07-31    2014-08-14  Institute Level                       No  \n",
              "3      2014-08-05    2014-08-14  Institute Level                       No  \n",
              "4      2014-07-23    2014-08-14  Institute Level                       No  \n",
              "\n",
              "[5 rows x 23 columns]"
            ]
          },
          "execution_count": 3,
          "metadata": {},
          "output_type": "execute_result"
        }
      ],
      "source": [
        "df.head()"
      ]
    },
    {
      "cell_type": "code",
      "execution_count": null,
      "metadata": {
        "id": "63qMHLMnZlCF",
        "outputId": "9f34706f-76d6-46e9-8012-5b71d03ccdc2"
      },
      "outputs": [
        {
          "data": {
            "text/plain": [
              "Text(0.5, 1.0, 'Distribution of Average grades')"
            ]
          },
          "execution_count": 4,
          "metadata": {},
          "output_type": "execute_result"
        },
        {
          "data": {
            "image/png": "[encoded data removed]",
            "text/plain": [
              "<Figure size 432x288 with 1 Axes>"
            ]
          },
          "metadata": {
            "needs_background": "light"
          },
          "output_type": "display_data"
        }
      ],
      "source": [
        "plt.hist(df['Average'])\n",
        "plt.xlabel('Grade')\n",
        "plt.ylabel('Count')\n",
        "plt.title('Distribution of Average grades')"
      ]
    },
    {
      "cell_type": "code",
      "execution_count": null,
      "metadata": {
        "id": "mhwWyPb_ZlCG",
        "outputId": "74d5ba65-3360-443f-ab45-19f71c4d2b40"
      },
      "outputs": [
        {
          "data": {
            "text/plain": [
              "Text(0.5, 1.0, 'Density Plot of Final Grades by Gender')"
            ]
          },
          "execution_count": 5,
          "metadata": {},
          "output_type": "execute_result"
        },
        {
          "data": {
            "image/png": "[encoded data removed]",
            "text/plain": [
              "<Figure size 432x288 with 1 Axes>"
            ]
          },
          "metadata": {
            "needs_background": "light"
          },
          "output_type": "display_data"
        }
      ],
      "source": [
        "import seaborn as sns\n",
        "sns.kdeplot(data=df, x=\"Average\", hue=\"Gender\", multiple=\"stack\")\n",
        "plt.xlabel('Grade')\n",
        "plt.ylabel('Density')\n",
        "plt.title('Density Plot of Final Grades by Gender')"
      ]
    },
    {
      "cell_type": "code",
      "execution_count": null,
      "metadata": {
        "id": "koT8tbCJZlCG",
        "outputId": "eb88fff4-06e0-426f-90cb-a322c39d34b6"
      },
      "outputs": [
        {
          "data": {
            "text/plain": [
              "<AxesSubplot:xlabel='Average', ylabel='Density'>"
            ]
          },
          "execution_count": 6,
          "metadata": {},
          "output_type": "execute_result"
        },
        {
          "data": {
            "image/png": "[encoded data removed]",
            "text/plain": [
              "<Figure size 432x288 with 1 Axes>"
            ]
          },
          "metadata": {
            "needs_background": "light"
          },
          "output_type": "display_data"
        }
      ],
      "source": [
        "sns.kdeplot(data=df, x=\"Average\", hue=\"Candidature Type\", multiple=\"stack\",shade=True)"
      ]
    },
    {
      "cell_type": "code",
      "execution_count": null,
      "metadata": {
        "id": "KzkBD94SZlCH",
        "outputId": "26dd5806-7960-4c91-84e2-045423fe5347"
      },
      "outputs": [
        {
          "data": {
            "text/plain": [
              "<AxesSubplot:xlabel='Average', ylabel='Density'>"
            ]
          },
          "execution_count": 7,
          "metadata": {},
          "output_type": "execute_result"
        },
        {
          "data": {
            "image/png": "[encoded data removed]",
            "text/plain": [
              "<Figure size 432x288 with 1 Axes>"
            ]
          },
          "metadata": {
            "needs_background": "light"
          },
          "output_type": "display_data"
        }
      ],
      "source": [
        "sns.kdeplot(data=df, x=\"Average\", hue=\"Seat Type\", multiple=\"stack\",shade=True)"
      ]
    },
    {
      "cell_type": "code",
      "execution_count": null,
      "metadata": {
        "id": "2VjvwJNDZlCH",
        "outputId": "dba48269-e6b1-4987-f09d-b931e07e29aa"
      },
      "outputs": [
        {
          "data": {
            "text/plain": [
              "No. of KTs                   -0.540343\n",
              "SAP ID                       -0.148469\n",
              "Sr. No.                      -0.143821\n",
              "HSC Eligibility Percentage    0.357633\n",
              "SEM VI                        0.714704\n",
              "SEM V                         0.817935\n",
              "SEM IV                        0.916046\n",
              "Average                       1.000000\n",
              "Fees Paid                          NaN\n",
              "Name: Average, dtype: float64"
            ]
          },
          "execution_count": 8,
          "metadata": {},
          "output_type": "execute_result"
        }
      ],
      "source": [
        "df.corr()['Average'].sort_values()"
      ]
    },
    {
      "cell_type": "code",
      "execution_count": null,
      "metadata": {
        "id": "MFNbFfDzZlCI",
        "outputId": "99a088e2-8cb6-4d10-b1da-a78a3b13ed71"
      },
      "outputs": [
        {
          "data": {
            "text/plain": [
              "Sr. No.                                int64\n",
              "SAP ID                                 int64\n",
              "Name                                  object\n",
              "Average                              float64\n",
              "SEM-I                                 object\n",
              "SEM-II                                object\n",
              "SEM-III                               object\n",
              "SEM IV                               float64\n",
              "SEM V                                float64\n",
              "SEM VI                               float64\n",
              "No. of KTs                             int64\n",
              "KT Avg                                object\n",
              "Gender                                object\n",
              "Candidature Type                      object\n",
              "Category                              object\n",
              "Home University                       object\n",
              "HSC Eligibility Percentage           float64\n",
              "Seat Type                             object\n",
              "Fees Paid                              int64\n",
              "Admission Date                datetime64[ns]\n",
              "Uploaded Date                 datetime64[ns]\n",
              "CAP Round                             object\n",
              "Admitted / Uploaded Late              object\n",
              "dtype: object"
            ]
          },
          "execution_count": 14,
          "metadata": {},
          "output_type": "execute_result"
        }
      ],
      "source": [
        "df.dtypes"
      ]
    },
    {
      "cell_type": "code",
      "execution_count": null,
      "metadata": {
        "id": "tnSoQpUEZlCI",
        "outputId": "d2ab974f-e0e3-4627-9ecd-7cfcad77249d"
      },
      "outputs": [
        {
          "name": "stdout",
          "output_type": "stream",
          "text": [
            "    Gender Candidature Type Category Home University Seat Type\n",
            "0     Male           Type A     Open          Mumbai        IL\n",
            "1     Male           Type A     Open          Mumbai        IL\n",
            "2     Male           Type A     Open          Mumbai        IL\n",
            "3   Female           Type A     Open          Mumbai        IL\n",
            "4     Male           Type A     Open          Mumbai        IL\n",
            "5     Male           Type A     Open          Mumbai        IL\n",
            "6     Male           Type A     Open          Mumbai        MI\n",
            "7   Female           Type A     Open          Mumbai        MI\n",
            "8     Male           Type A     Open          Mumbai        MI\n",
            "9     Male           Type A     Open          Mumbai        MI\n",
            "10    Male           Type A     Open          Mumbai        MI\n",
            "11  Female           Type A     Open          Mumbai        IL\n",
            "12    Male           Type A     Open          Mumbai        IL\n",
            "13    Male           Type A     Open          Mumbai        MI\n",
            "14  Female           Type A     Open          Mumbai        MI\n",
            "15  Female           Type B     Open          Mumbai        IL\n",
            "16    Male           Type A     Open          Mumbai        MI\n",
            "17    Male           Type A     Open          Mumbai        MI\n",
            "18    Male           Type A     Open          Mumbai        MI\n",
            "19    Male           Type A     Open          Mumbai        MI\n",
            "20    Male           Type A     Open          Mumbai        IL\n",
            "21  Female           Type A     Open          Mumbai        IL\n",
            "22    Male           Type A     Open          Mumbai        IL\n",
            "23    Male           Type A     Open          Mumbai        IL\n",
            "24    Male           Type A     Open          Mumbai        IL\n",
            "25    Male           Type A     Open          Mumbai        IL\n",
            "26    Male           Type A     Open          Mumbai        IL\n",
            "27    Male           Type B     Open          Mumbai        IL\n",
            "28    Male           Type A     Open          Mumbai        MI\n",
            "29    Male           Type A     Open          Mumbai        MI\n",
            "30    Male           Type A     Open          Mumbai        MI\n",
            "31  Female           Type A     Open          Mumbai        MI\n",
            "32    Male           Type A     Open          Mumbai        MI\n",
            "33    Male           Type A     Open          Mumbai        IL\n",
            "34    Male           Type A     Open          Mumbai        IL\n",
            "35    Male           Type A     Open          Mumbai        MI\n",
            "36  Female           Type A     Open          Mumbai        IL\n",
            "37    Male           Type A     Open          Mumbai        MI\n",
            "38    Male           Type A     Open          Mumbai        MI\n",
            "39    Male           Type A     Open          Mumbai        MI\n",
            "40    Male           Type A     Open          Mumbai        IL\n",
            "41    Male           Type A     Open          Mumbai        MI\n",
            "42    Male           Type A     Open          Mumbai        IL\n",
            "43    Male           Type A     NT-D          Mumbai        IL\n",
            "44    Male           Type A     Open          Mumbai        IL\n",
            "45    Male           Type A     Open          Mumbai        MI\n",
            "46  Female           Type A     Open          Mumbai        MI\n",
            "47    Male           Type A     Open          Mumbai        MI\n",
            "48  Female           Type A     Open          Mumbai        MI\n",
            "49    Male           Type A     Open          Mumbai        IL\n",
            "50  Female           Type A     Open          Mumbai        MI\n",
            "51    Male           Type A     Open          Mumbai        MI\n",
            "52    Male           Type A     Open          Mumbai        MI\n",
            "53    Male           Type A     Open          Mumbai        IL\n",
            "54    Male           Type A     Open          Mumbai        MI\n",
            "55  Female           Type A     Open          Mumbai        MI\n",
            "56  Female           Type A     Open            Pune        IL\n",
            "57  Female           Type A     Open          Mumbai        MI\n"
          ]
        }
      ],
      "source": [
        "# Select only categorical variables\n",
        "df['Name'] = df['Name'].astype('|S')\n",
        "df['SEM-I'] = pd.to_numeric(df['SEM-I'], errors='coerce')\n",
        "df['SEM-II'] = pd.to_numeric(df['SEM-II'], errors='coerce')\n",
        "df['SEM-III'] = pd.to_numeric(df['SEM-III'], errors='coerce')\n",
        "df['KT Avg'] = pd.to_numeric(df['KT Avg'], errors='coerce')\n",
        "category_df = df.select_dtypes('object')\n",
        "category_df=category_df.drop(['CAP Round','Admitted / Uploaded Late'],axis=1)\n",
        "print(category_df)"
      ]
    },
    {
      "cell_type": "code",
      "execution_count": null,
      "metadata": {
        "id": "VUZL-XcXZlCJ",
        "outputId": "f9d09c1d-0025-45e1-e3a9-4310cdfd0c97"
      },
      "outputs": [
        {
          "data": {
            "text/html": [
              "<div>\n",
              "<style scoped>\n",
              "    .dataframe tbody tr th:only-of-type {\n",
              "        vertical-align: middle;\n",
              "    }\n",
              "\n",
              "    .dataframe tbody tr th {\n",
              "        vertical-align: top;\n",
              "    }\n",
              "\n",
              "    .dataframe thead th {\n",
              "        text-align: right;\n",
              "    }\n",
              "</style>\n",
              "<table border=\"1\" class=\"dataframe\">\n",
              "  <thead>\n",
              "    <tr style=\"text-align: right;\">\n",
              "      <th></th>\n",
              "      <th>Gender_Female</th>\n",
              "      <th>Gender_Male</th>\n",
              "      <th>Candidature Type_Type A</th>\n",
              "      <th>Candidature Type_Type B</th>\n",
              "      <th>Category_NT-D</th>\n",
              "      <th>Category_Open</th>\n",
              "      <th>Home University_Mumbai</th>\n",
              "      <th>Home University_Pune</th>\n",
              "      <th>Seat Type_IL</th>\n",
              "      <th>Seat Type_MI</th>\n",
              "      <th>Average</th>\n",
              "    </tr>\n",
              "  </thead>\n",
              "  <tbody>\n",
              "    <tr>\n",
              "      <th>0</th>\n",
              "      <td>0</td>\n",
              "      <td>1</td>\n",
              "      <td>1</td>\n",
              "      <td>0</td>\n",
              "      <td>0</td>\n",
              "      <td>1</td>\n",
              "      <td>1</td>\n",
              "      <td>0</td>\n",
              "      <td>1</td>\n",
              "      <td>0</td>\n",
              "      <td>8.054000</td>\n",
              "    </tr>\n",
              "    <tr>\n",
              "      <th>1</th>\n",
              "      <td>0</td>\n",
              "      <td>1</td>\n",
              "      <td>1</td>\n",
              "      <td>0</td>\n",
              "      <td>0</td>\n",
              "      <td>1</td>\n",
              "      <td>1</td>\n",
              "      <td>0</td>\n",
              "      <td>1</td>\n",
              "      <td>0</td>\n",
              "      <td>9.690000</td>\n",
              "    </tr>\n",
              "    <tr>\n",
              "      <th>2</th>\n",
              "      <td>0</td>\n",
              "      <td>1</td>\n",
              "      <td>1</td>\n",
              "      <td>0</td>\n",
              "      <td>0</td>\n",
              "      <td>1</td>\n",
              "      <td>1</td>\n",
              "      <td>0</td>\n",
              "      <td>1</td>\n",
              "      <td>0</td>\n",
              "      <td>8.590000</td>\n",
              "    </tr>\n",
              "    <tr>\n",
              "      <th>3</th>\n",
              "      <td>1</td>\n",
              "      <td>0</td>\n",
              "      <td>1</td>\n",
              "      <td>0</td>\n",
              "      <td>0</td>\n",
              "      <td>1</td>\n",
              "      <td>1</td>\n",
              "      <td>0</td>\n",
              "      <td>1</td>\n",
              "      <td>0</td>\n",
              "      <td>6.950000</td>\n",
              "    </tr>\n",
              "    <tr>\n",
              "      <th>4</th>\n",
              "      <td>0</td>\n",
              "      <td>1</td>\n",
              "      <td>1</td>\n",
              "      <td>0</td>\n",
              "      <td>0</td>\n",
              "      <td>1</td>\n",
              "      <td>1</td>\n",
              "      <td>0</td>\n",
              "      <td>1</td>\n",
              "      <td>0</td>\n",
              "      <td>8.303333</td>\n",
              "    </tr>\n",
              "  </tbody>\n",
              "</table>\n",
              "</div>"
            ],
            "text/plain": [
              "   Gender_Female  Gender_Male  Candidature Type_Type A  \\\n",
              "0              0            1                        1   \n",
              "1              0            1                        1   \n",
              "2              0            1                        1   \n",
              "3              1            0                        1   \n",
              "4              0            1                        1   \n",
              "\n",
              "   Candidature Type_Type B  Category_NT-D  Category_Open  \\\n",
              "0                        0              0              1   \n",
              "1                        0              0              1   \n",
              "2                        0              0              1   \n",
              "3                        0              0              1   \n",
              "4                        0              0              1   \n",
              "\n",
              "   Home University_Mumbai  Home University_Pune  Seat Type_IL  Seat Type_MI  \\\n",
              "0                       1                     0             1             0   \n",
              "1                       1                     0             1             0   \n",
              "2                       1                     0             1             0   \n",
              "3                       1                     0             1             0   \n",
              "4                       1                     0             1             0   \n",
              "\n",
              "    Average  \n",
              "0  8.054000  \n",
              "1  9.690000  \n",
              "2  8.590000  \n",
              "3  6.950000  \n",
              "4  8.303333  "
            ]
          },
          "execution_count": 29,
          "metadata": {},
          "output_type": "execute_result"
        }
      ],
      "source": [
        "# One hot encode the variables\n",
        "dummy_df = pd.get_dummies(category_df)\n",
        "# Put the grade back in the dataframe\n",
        "dummy_df['Average'] = df['Average']\n",
        "dummy_df.head()"
      ]
    },
    {
      "cell_type": "code",
      "execution_count": null,
      "metadata": {
        "id": "dW_x6ID1ZlCK",
        "outputId": "70ac6724-5db8-4ffa-942f-59c53e28bc65"
      },
      "outputs": [
        {
          "data": {
            "text/plain": [
              "Home University_Mumbai    -0.245630\n",
              "Seat Type_MI              -0.124898\n",
              "Category_Open             -0.105732\n",
              "Candidature Type_Type B   -0.079656\n",
              "Gender_Female             -0.014348\n",
              "Gender_Male                0.014348\n",
              "Candidature Type_Type A    0.079656\n",
              "Category_NT-D              0.105732\n",
              "Seat Type_IL               0.124898\n",
              "Home University_Pune       0.245630\n",
              "Average                    1.000000\n",
              "Name: Average, dtype: float64"
            ]
          },
          "execution_count": 31,
          "metadata": {},
          "output_type": "execute_result"
        }
      ],
      "source": [
        "# Correlations in one-hot encoded dataframe\n",
        "dummy_df.corr()['Average'].sort_values()"
      ]
    },
    {
      "cell_type": "code",
      "execution_count": null,
      "metadata": {
        "id": "2EWJMP0xZlCK"
      },
      "outputs": [],
      "source": []
    },
    {
      "cell_type": "code",
      "execution_count": null,
      "metadata": {
        "id": "Mx6c8JLWZlCK"
      },
      "outputs": [],
      "source": []
    },
    {
      "cell_type": "code",
      "execution_count": null,
      "metadata": {
        "id": "ER94WbMOZlCK"
      },
      "outputs": [],
      "source": []
    }
  ],
  "metadata": {
    "kernelspec": {
      "display_name": "Python 3",
      "language": "python",
      "name": "python3"
    },
    "language_info": {
      "codemirror_mode": {
        "name": "ipython",
        "version": 3
      },
      "file_extension": ".py",
      "mimetype": "text/x-python",
      "name": "python",
      "nbconvert_exporter": "python",
      "pygments_lexer": "ipython3",
      "version": "3.7.4"
    },
    "colab": {
      "provenance": [],
      "include_colab_link": true
    }
  },
  "nbformat": 4,
  "nbformat_minor": 0
}